{
 "cells": [
  {
   "cell_type": "code",
   "execution_count": 1,
   "id": "9cfd9b68-9b97-4cd5-add9-eaa92e52025e",
   "metadata": {},
   "outputs": [],
   "source": [
    "from keras.models import load_model\n",
    "from joblib import load"
   ]
  },
  {
   "cell_type": "code",
   "execution_count": 7,
   "id": "654a1e78-da3d-4112-b6c6-d8ba73c4396f",
   "metadata": {},
   "outputs": [
    {
     "name": "stderr",
     "output_type": "stream",
     "text": [
      "WARNING:absl:Compiled the loaded model, but the compiled metrics have yet to be built. `model.compile_metrics` will be empty until you train or evaluate the model.\n"
     ]
    }
   ],
   "source": [
    "pt = load('model/transformer.joblib')\n",
    "model = load_model('model/my_model.h5')"
   ]
  },
  {
   "cell_type": "code",
   "execution_count": 8,
   "id": "7908885e-f66f-437e-ba0d-63ddc2b75e55",
   "metadata": {},
   "outputs": [],
   "source": [
    "import pandas as pd"
   ]
  },
  {
   "cell_type": "code",
   "execution_count": 9,
   "id": "7a5ab562-4d77-47df-a32f-28631c43fd1f",
   "metadata": {},
   "outputs": [],
   "source": [
    "df = pd.read_csv('Test_data.csv')"
   ]
  },
  {
   "cell_type": "code",
   "execution_count": 10,
   "id": "07713e4c-c6ea-4c55-b845-cae81199e6ea",
   "metadata": {},
   "outputs": [],
   "source": [
    "data = pt.transform(df)"
   ]
  },
  {
   "cell_type": "code",
   "execution_count": 13,
   "id": "9691513c-246d-4db2-9d1a-9091902258f0",
   "metadata": {},
   "outputs": [
    {
     "name": "stdout",
     "output_type": "stream",
     "text": [
      "\u001b[1m18/18\u001b[0m \u001b[32m━━━━━━━━━━━━━━━━━━━━\u001b[0m\u001b[37m\u001b[0m \u001b[1m0s\u001b[0m 2ms/step \n"
     ]
    }
   ],
   "source": [
    "prediction = [1 if i>0.5 else 0 for i in model.predict(data)]"
   ]
  },
  {
   "cell_type": "code",
   "execution_count": 16,
   "id": "aebfff74-93c8-4fe6-9219-4a0bee81d30b",
   "metadata": {},
   "outputs": [],
   "source": [
    "import numpy as np \n",
    "x = pd.DataFrame(np.array(prediction), columns = ['predictions'])"
   ]
  },
  {
   "cell_type": "code",
   "execution_count": 18,
   "id": "968bda3d-640a-4937-a59d-74b5473ed4d3",
   "metadata": {},
   "outputs": [],
   "source": [
    "x.to_csv('predictions.csv')"
   ]
  }
 ],
 "metadata": {
  "kernelspec": {
   "display_name": "Python 3 (ipykernel)",
   "language": "python",
   "name": "python3"
  },
  "language_info": {
   "codemirror_mode": {
    "name": "ipython",
    "version": 3
   },
   "file_extension": ".py",
   "mimetype": "text/x-python",
   "name": "python",
   "nbconvert_exporter": "python",
   "pygments_lexer": "ipython3",
   "version": "3.11.4"
  }
 },
 "nbformat": 4,
 "nbformat_minor": 5
}
